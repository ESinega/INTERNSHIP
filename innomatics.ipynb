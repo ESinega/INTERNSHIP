{
  "nbformat": 4,
  "nbformat_minor": 0,
  "metadata": {
    "colab": {
      "provenance": [],
      "mount_file_id": "1hIhUUpq1izEO3TpgG0E-9POcTK1InwTU",
      "authorship_tag": "ABX9TyO5pD4YQf3djUduWTr4x6SC",
      "include_colab_link": true
    },
    "kernelspec": {
      "name": "python3",
      "display_name": "Python 3"
    },
    "language_info": {
      "name": "python"
    }
  },
  "cells": [
    {
      "cell_type": "markdown",
      "metadata": {
        "id": "view-in-github",
        "colab_type": "text"
      },
      "source": [
        "<a href=\"https://colab.research.google.com/github/ESinega/projects/blob/main/innomatics.ipynb\" target=\"_parent\"><img src=\"https://colab.research.google.com/assets/colab-badge.svg\" alt=\"Open In Colab\"/></a>"
      ]
    },
    {
      "cell_type": "code",
      "execution_count": 1,
      "metadata": {
        "colab": {
          "base_uri": "https://localhost:8080/"
        },
        "id": "B5utGD2Awbst",
        "outputId": "7e5aba4b-3299-4bd2-e12a-e13d744dc2c5"
      },
      "outputs": [
        {
          "output_type": "stream",
          "name": "stdout",
          "text": [
            "   movieId                    title  \\\n",
            "0        1         Toy Story (1995)   \n",
            "1        2           Jumanji (1995)   \n",
            "2        3  Grumpier Old Men (1995)   \n",
            "5        6              Heat (1995)   \n",
            "6        7           Sabrina (1995)   \n",
            "\n",
            "                                        genres  rating_count  rating_mean  \n",
            "0  Adventure|Animation|Children|Comedy|Fantasy           215     3.920930  \n",
            "1                   Adventure|Children|Fantasy           110     3.431818  \n",
            "2                               Comedy|Romance            52     3.259615  \n",
            "5                        Action|Crime|Thriller           102     3.946078  \n",
            "6                               Comedy|Romance            54     3.185185  \n"
          ]
        }
      ],
      "source": [
        "import pandas as pd\n",
        "\n",
        "# Load the datasets\n",
        "links_data = pd.read_csv('/content/links.csv')\n",
        "movies_data = pd.read_csv('/content/movies.csv')\n",
        "ratings_data = pd.read_csv('/content/ratings.csv')\n",
        "\n",
        "# Group ratings by movieId and calculate count and mean of ratings\n",
        "ratings_grouped = ratings_data.groupby('movieId').agg({'rating': ['count', 'mean']})\n",
        "\n",
        "# Rename columns for clarity\n",
        "ratings_grouped.columns = ['rating_count', 'rating_mean']\n",
        "\n",
        "# Perform an inner join on movies and the grouped ratings\n",
        "merged_data = pd.merge(movies_data, ratings_grouped, on='movieId', how='inner')\n",
        "\n",
        "# Filter movies with more than 50 ratings\n",
        "filtered_data = merged_data[merged_data['rating_count'] > 50]\n",
        "\n",
        "print(filtered_data.head())\n"
      ]
    },
    {
      "cell_type": "code",
      "source": [
        "import pandas as pd\n",
        "\n",
        "# Load the ratings dataset\n",
        "ratings = pd.read_csv('/content/ratings.csv')\n",
        "\n",
        "# Group ratings by movieId and calculate the mean of ratings\n",
        "average_ratings = ratings.groupby('movieId')['rating'].mean()\n",
        "\n",
        "# Find the movie with the highest average rating\n",
        "highest_rated_movie_id = average_ratings.idxmax()\n",
        "\n",
        "# Get the movie details from movies.csv using the movieId\n",
        "movies = pd.read_csv('movies.csv')\n",
        "highest_rated_movie = movies[movies['movieId'] == highest_rated_movie_id]\n",
        "\n",
        "print(\"The movie with the highest average user rating is:\")\n",
        "print(highest_rated_movie[['title', 'genres']])\n"
      ],
      "metadata": {
        "colab": {
          "base_uri": "https://localhost:8080/"
        },
        "id": "Ti6Eon_ZzxU_",
        "outputId": "940d4aa0-c1c9-40fd-bccb-b758b358d848"
      },
      "execution_count": 4,
      "outputs": [
        {
          "output_type": "stream",
          "name": "stdout",
          "text": [
            "The movie with the highest average user rating is:\n",
            "              title           genres\n",
            "48  Lamerica (1994)  Adventure|Drama\n"
          ]
        }
      ]
    },
    {
      "cell_type": "code",
      "source": [
        "import pandas as pd\n",
        "\n",
        "# Load the ratings data\n",
        "ratings = pd.read_csv('/content/ratings.csv')\n",
        "\n",
        "# Group ratings by movieId and count the number of ratings\n",
        "ratings_count = ratings.groupby('movieId')['rating'].count().reset_index()\n",
        "\n",
        "# Sort the movies by the number of ratings in descending order\n",
        "top_5_movies = ratings_count.nlargest(5, 'rating')\n",
        "\n",
        "print(\"Top 5 popular movies based on number of user ratings:\")\n",
        "print(top_5_movies)\n"
      ],
      "metadata": {
        "colab": {
          "base_uri": "https://localhost:8080/"
        },
        "id": "FxTjh1q-0_3g",
        "outputId": "178fdbb6-a983-4963-ebe5-5264dffda452"
      },
      "execution_count": 6,
      "outputs": [
        {
          "output_type": "stream",
          "name": "stdout",
          "text": [
            "Top 5 popular movies based on number of user ratings:\n",
            "      movieId  rating\n",
            "314       356     329\n",
            "277       318     317\n",
            "257       296     307\n",
            "510       593     279\n",
            "1938     2571     278\n"
          ]
        }
      ]
    },
    {
      "cell_type": "code",
      "source": [
        "import pandas as pd\n",
        "\n",
        "# Load the movies and ratings data\n",
        "movies = pd.read_csv('/content/movies.csv')\n",
        "ratings = pd.read_csv('/content/ratings.csv')\n",
        "\n",
        "# Merge movies and ratings data\n",
        "merged_data = pd.merge(movies, ratings, on='movieId', how='inner')\n",
        "\n",
        "# Filter movies with genre 'Sci-Fi'\n",
        "sci_fi_movies = merged_data[merged_data['genres'].str.contains('Sci-Fi')]\n",
        "\n",
        "# Group Sci-Fi movies by movieId and count the number of ratings\n",
        "sci_fi_ratings_count = sci_fi_movies.groupby('movieId')['rating'].count().reset_index()\n",
        "\n",
        "# Sort Sci-Fi movies by the number of ratings in descending order\n",
        "sorted_sci_fi_movies = sci_fi_ratings_count.sort_values(by='rating', ascending=False)\n",
        "\n",
        "# Find the movieId of the third most popular Sci-Fi movie\n",
        "third_most_popular_sci_fi_movieId = sorted_sci_fi_movies.iloc[2]['movieId']\n",
        "\n",
        "# Get the movie title associated with the movieId\n",
        "movie_title = movies[movies['movieId'] == third_most_popular_sci_fi_movieId]['title'].values[0]\n",
        "\n",
        "print(f\"The third most popular Sci-Fi movie based on the number of user ratings is: {movie_title}\")\n"
      ],
      "metadata": {
        "colab": {
          "base_uri": "https://localhost:8080/"
        },
        "id": "Ipv9ymZ71Kmo",
        "outputId": "c13da691-6bb2-4753-c490-8503cb5438a7"
      },
      "execution_count": 7,
      "outputs": [
        {
          "output_type": "stream",
          "name": "stdout",
          "text": [
            "The third most popular Sci-Fi movie based on the number of user ratings is: Jurassic Park (1993)\n"
          ]
        }
      ]
    }
  ]
}